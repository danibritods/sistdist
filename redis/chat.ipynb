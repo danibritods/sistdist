{
 "cells": [
  {
   "cell_type": "code",
   "execution_count": 15,
   "metadata": {},
   "outputs": [],
   "source": [
    "import json\n",
    "\n",
    "\n",
    "class Server:\n",
    "    def __init__(self) -> None:\n",
    "        self.pending_messages = {\n",
    "            \"Daniel#Doris\": [\"Oi\", \"tudobem?\"],\n",
    "            \"Joao#Doris\": [\"Te pago amanhã\"]\n",
    "        }\n",
    "\n",
    "    def get_msg(self, remote_id):\n",
    "        chats = {chat_id.split(\"#\")[0]: messages for chat_id, messages in self.pending_messages.items() if f\"#{remote_id}\" in chat_id}\n",
    "        return chats\n",
    "        \n",
    "\n"
   ]
  },
  {
   "cell_type": "code",
   "execution_count": 17,
   "metadata": {},
   "outputs": [
    {
     "data": {
      "text/plain": [
       "{'Daniel': ['Oi', 'tudobem?'], 'Joao': ['Te pago amanhã']}"
      ]
     },
     "execution_count": 17,
     "metadata": {},
     "output_type": "execute_result"
    }
   ],
   "source": [
    "s = Server()\n",
    "s.get_msg(remote_id=\"Doris\")"
   ]
  }
 ],
 "metadata": {
  "kernelspec": {
   "display_name": "Python 3.10.5 64-bit",
   "language": "python",
   "name": "python3"
  },
  "language_info": {
   "codemirror_mode": {
    "name": "ipython",
    "version": 3
   },
   "file_extension": ".py",
   "mimetype": "text/x-python",
   "name": "python",
   "nbconvert_exporter": "python",
   "pygments_lexer": "ipython3",
   "version": "3.10.5"
  },
  "orig_nbformat": 4,
  "vscode": {
   "interpreter": {
    "hash": "e7370f93d1d0cde622a1f8e1c04877d8463912d04d973331ad4851f04de6915a"
   }
  }
 },
 "nbformat": 4,
 "nbformat_minor": 2
}
