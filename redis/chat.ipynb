{
 "cells": [
  {
   "cell_type": "code",
   "execution_count": 39,
   "metadata": {},
   "outputs": [],
   "source": [
    "import json\n",
    "\n",
    "\n",
    "class Server:\n",
    "    def __init__(self) -> None:\n",
    "        self.pending_messages = {}\n",
    "\n",
    "    def get_msg(self, remote_id):\n",
    "        chats = {chat_id.split(\"#\")[0]: messages for chat_id, messages in self.pending_messages.items() if f\"#{remote_id}\" in chat_id}\n",
    "        return chats\n",
    "\n",
    "    def receive_msg(self, sender_id, receiver_id, msg):\n",
    "        self.pending_messages.setdefault(f\"{sender_id}#{receiver_id}\",[]).append(msg)\n",
    "\n",
    "class Client:\n",
    "    def __init__(self, client_id) -> None:\n",
    "        self.id = client_id\n",
    "    \n",
    "    def send_msg(self, remote_id, msg, server):\n",
    "        server.receive_msg(self.id, remote_id, msg)\n",
    "        \n",
    "\n",
    "    def check_msg(self, server):\n",
    "        return server.get_msg(self.id)\n",
    "        \n",
    "\n",
    "\n"
   ]
  },
  {
   "cell_type": "code",
   "execution_count": 42,
   "metadata": {},
   "outputs": [
    {
     "data": {
      "text/plain": [
       "{'Daniel': ['Oi', 'tudo bem?']}"
      ]
     },
     "execution_count": 42,
     "metadata": {},
     "output_type": "execute_result"
    }
   ],
   "source": [
    "s = Server()\n",
    "daniel = Client(\"Daniel\")\n",
    "joao = Client(\"Joao\")\n",
    "doris = Client(\"Doris\")\n",
    "\n",
    "daniel.send_msg(\"Doris\",\"Oi\", s)\n",
    "daniel.send_msg(\"Doris\",\"tudo bem?\", s)\n",
    "joao.send_msg(\"Daniel\",\"Te pago amanhã\", s)\n",
    "doris.check_msg(s)\n",
    "\n",
    "# s.receive_msg(\"Daniel\",\"Doris\",\"oi\")\n",
    "# s.receive_msg(\"Daniel\",\"Doris\",\"tudo bem?\")\n",
    "# s.receive_msg(\"Joao\",\"Daniel\",\"Te pago amanhã\")\n",
    "# s.get_msg(remote_id=\"Doris\")\n"
   ]
  }
 ],
 "metadata": {
  "kernelspec": {
   "display_name": "Python 3.10.5 64-bit",
   "language": "python",
   "name": "python3"
  },
  "language_info": {
   "codemirror_mode": {
    "name": "ipython",
    "version": 3
   },
   "file_extension": ".py",
   "mimetype": "text/x-python",
   "name": "python",
   "nbconvert_exporter": "python",
   "pygments_lexer": "ipython3",
   "version": "3.10.5"
  },
  "orig_nbformat": 4,
  "vscode": {
   "interpreter": {
    "hash": "e7370f93d1d0cde622a1f8e1c04877d8463912d04d973331ad4851f04de6915a"
   }
  }
 },
 "nbformat": 4,
 "nbformat_minor": 2
}
