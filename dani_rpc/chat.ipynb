{
 "cells": [
  {
   "cell_type": "code",
   "execution_count": 16,
   "metadata": {},
   "outputs": [],
   "source": [
    "import json\n",
    "\n",
    "class Server:\n",
    "    def __init__(self) -> None:\n",
    "        self.pending_messages = {}\n",
    "\n",
    "    def get_msg(self, remote_id):\n",
    "        chats = {chat_id.split(\"#\")[0]: messages \n",
    "                    for chat_id, messages in self.pending_messages.items() \n",
    "                    if f\"#{remote_id}\" in chat_id}\n",
    "        return chats\n",
    "\n",
    "    def receive_msg(self, sender_id, receiver_id, msg):\n",
    "        self.pending_messages.setdefault(f\"{sender_id}#{receiver_id}\",[]).append(msg)\n",
    "\n",
    "class Client:\n",
    "    def __init__(self, client_id, server) -> None:\n",
    "        self.id = client_id\n",
    "        self.server = server\n",
    "    \n",
    "    def send_msg(self, remote_id, msg):\n",
    "        self.server.receive_msg(self.id, remote_id, msg)\n",
    "\n",
    "    def check_msg(self, server):\n",
    "        return self.server.get_msg(self.id)\n",
    "\n",
    "\n"
   ]
  },
  {
   "cell_type": "code",
   "execution_count": 20,
   "metadata": {},
   "outputs": [
    {
     "data": {
      "text/plain": [
       "{'Daniel': ['Oi', 'tudo bem?']}"
      ]
     },
     "execution_count": 20,
     "metadata": {},
     "output_type": "execute_result"
    }
   ],
   "source": [
    "s = Server()\n",
    "daniel = Client(\"Daniel\", s)\n",
    "joao = Client(\"Joao\", s)\n",
    "doris = Client(\"Doris\", s)\n",
    "\n",
    "daniel.send_msg(\"Doris\",\"Oi\")\n",
    "daniel.send_msg(\"Doris\",\"tudo bem?\")\n",
    "joao.send_msg(\"Daniel\",\"Te pago amanhã\")\n",
    "doris.check_msg(s)\n",
    "\n",
    "# s.receive_msg(\"Daniel\",\"Doris\",\"oi\")\n",
    "# s.receive_msg(\"Daniel\",\"Doris\",\"tudo bem?\")\n",
    "# s.receive_msg(\"Joao\",\"Daniel\",\"Te pago amanhã\")\n",
    "# s.get_msg(remote_id=\"Doris\")\n"
   ]
  },
  {
   "cell_type": "code",
   "execution_count": 27,
   "metadata": {},
   "outputs": [
    {
     "data": {
      "text/plain": [
       "['get_msg', 'receive_msg']"
      ]
     },
     "execution_count": 27,
     "metadata": {},
     "output_type": "execute_result"
    }
   ],
   "source": [
    "method_list = [func for func in dir(s) if callable(getattr(s, func)) if \"__\" not in func]\n",
    "method_list"
   ]
  }
 ],
 "metadata": {
  "kernelspec": {
   "display_name": "Python 3.10.5 64-bit",
   "language": "python",
   "name": "python3"
  },
  "language_info": {
   "codemirror_mode": {
    "name": "ipython",
    "version": 3
   },
   "file_extension": ".py",
   "mimetype": "text/x-python",
   "name": "python",
   "nbconvert_exporter": "python",
   "pygments_lexer": "ipython3",
   "version": "3.10.5"
  },
  "orig_nbformat": 4,
  "vscode": {
   "interpreter": {
    "hash": "e7370f93d1d0cde622a1f8e1c04877d8463912d04d973331ad4851f04de6915a"
   }
  }
 },
 "nbformat": 4,
 "nbformat_minor": 2
}
