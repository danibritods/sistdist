{
 "cells": [
  {
   "cell_type": "code",
   "execution_count": null,
   "metadata": {},
   "outputs": [],
   "source": [
    "print(3*'\\n')\n",
    "id_receiver = '1'\n",
    "id_sender = '2'\n",
    "message = 'abc'\n",
    "\n",
    "Dict_message={ }\n",
    "Dict_message[id_receiver]={}\n",
    "id_sender_1 = 'mandante'\n",
    "id_sender_2 = 'mandante2'\n",
    "id_receiver = 'recebedor'\n",
    "message1 = 'OI PRIMO'\n",
    "message2 = 'OI sobrinho'\n",
    "index = 1\n",
    "\n",
    "\n",
    "\n",
    "# SERVER{\n",
    "#     B:{\n",
    "#         {\n",
    "#             \"A\": \"oipudim\"\n",
    "#         }\n",
    "#     }\n",
    "#     C:{\n",
    "#         {\"A\":[\"tchaupudim\", \"oidnv\"]\n",
    "#         \"B\":[\"gato\"]}\n",
    "#       }\n",
    "# }\n",
    "# B:{\n",
    "# #         {\n",
    "# #             \"A\": \"oipudim\"\n",
    "# #         }\n",
    "# #     }\n",
    "\n",
    "Dict_message[id_receiver][id_sender] = [message]\n",
    "index+=1\n",
    "to_insert = Dict_message[id_receiver][id_sender]\n",
    "to_insert.append(message)\n",
    "Dict_message[id_receiver][id_sender] = to_insert\n",
    "\n",
    "\n",
    "Dict_message[id_receiver][id_sender_2] = [message1]\n",
    "index+=1\n",
    "to_insert = Dict_message[id_receiver][id_sender_2]\n",
    "to_insert.append(message2)\n",
    "Dict_message[id_receiver][id_sender_2] = to_insert\n",
    "\n",
    "print(Dict_message)\n",
    "\n",
    "\n",
    "print(3*'\\n')\n"
   ]
  },
  {
   "cell_type": "code",
   "execution_count": null,
   "metadata": {},
   "outputs": [],
   "source": [
    "def func_a ():\n",
    "    print('a')\n",
    "\n",
    "def func_b ():\n",
    "    print('b')\n",
    "\n",
    "\n",
    "server_functions = {func_a, 'func_a',\n",
    "                    func_b, 'func_b'}\n",
    "for func in server_functions:\n",
    "    print(func)\n"
   ]
  },
  {
   "cell_type": "code",
   "execution_count": 20,
   "metadata": {},
   "outputs": [
    {
     "name": "stdout",
     "output_type": "stream",
     "text": [
      "True\n",
      "{'receiver1': {'sender1': ['msg 0']}}\n",
      "False\n",
      "{'receiver1': {'sender1': ['msg 0', 'msg 1']}}\n",
      "False\n",
      "{'receiver1': {'sender1': ['msg 0', 'msg 1', 'msg 2']}}\n",
      "False\n",
      "{'receiver1': {'sender1': ['msg 0', 'msg 1', 'msg 2'], 'sender2': ['msg 3']}}\n",
      "False\n",
      "{'receiver1': {'sender1': ['msg 0', 'msg 1', 'msg 2'], 'sender2': ['msg 3', 'msg 4']}}\n",
      "True\n",
      "{'receiver1': {'sender1': ['msg 0', 'msg 1', 'msg 2'], 'sender2': ['msg 3', 'msg 4']}, 'receiver2': {'sender3': ['msg 5']}}\n"
     ]
    }
   ],
   "source": [
    "message_log_v2 = {}\n",
    "def global_log_2(id_sender, id_receiver, msg):\n",
    "    '''Storing all the server messages in a json format\n",
    "    '''\n",
    "    message_capsule = {\n",
    "        id_receiver: {\n",
    "            id_sender: msg\n",
    "        }\n",
    "    }\n",
    "    global message_log_v2\n",
    "    isFirstReceiverUser = id_receiver not in message_log_v2\n",
    "    print(isFirstReceiverUser)\n",
    "    if isFirstReceiverUser:\n",
    "        message_log_v2.setdefault(id_receiver, {id_sender: [msg]})\n",
    "    else:\n",
    "        isFirstSenderUser = id_sender not in message_log_v2[id_receiver]\n",
    "        if isFirstSenderUser:\n",
    "            message_log_v2[id_receiver].setdefault(\n",
    "                id_sender, [msg])\n",
    "        else:\n",
    "            message_log_v2[id_receiver][id_sender].append(msg)\n",
    "        \n",
    "    # if message_log_v2[id_receiver][id_sender] == {}:\n",
    "    #     message_log_v2[id_receiver][id_sender] = [msg]\n",
    "    # to_insert = message_log_v2[id_receiver][id_sender]\n",
    "    # to_insert.append(msg)\n",
    "    # message_log_v2[id_receiver][id_sender] = to_insert\n",
    "    print(message_log_v2)\n",
    "\n",
    "\n",
    "index = 0\n",
    "global_log_2('sender1', 'receiver1', 'msg '+str(index))\n",
    "index += 1\n",
    "global_log_2('sender1', 'receiver1', 'msg '+str(index))\n",
    "index += 1\n",
    "global_log_2('sender1', 'receiver1', 'msg '+str(index))\n",
    "index += 1\n",
    "global_log_2('sender2', 'receiver1', 'msg '+str(index))\n",
    "index += 1\n",
    "global_log_2('sender2', 'receiver1', 'msg '+str(index))\n",
    "index += 1\n",
    "global_log_2('sender3', 'receiver2', 'msg '+str(index))\n"
   ]
  }
 ],
 "metadata": {
  "kernelspec": {
   "display_name": "Python 3.10.2 64-bit",
   "language": "python",
   "name": "python3"
  },
  "language_info": {
   "codemirror_mode": {
    "name": "ipython",
    "version": 3
   },
   "file_extension": ".py",
   "mimetype": "text/x-python",
   "name": "python",
   "nbconvert_exporter": "python",
   "pygments_lexer": "ipython3",
   "version": "3.10.2"
  },
  "orig_nbformat": 4,
  "vscode": {
   "interpreter": {
    "hash": "896021ae8dbdc5194ce7c05db62856ed3e6d57337b04d6eb45afdec41bc9634a"
   }
  }
 },
 "nbformat": 4,
 "nbformat_minor": 2
}
