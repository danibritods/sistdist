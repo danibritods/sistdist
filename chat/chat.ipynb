{
 "cells": [
  {
   "cell_type": "code",
   "execution_count": 92,
   "metadata": {},
   "outputs": [],
   "source": [
    "import random \n",
    "\n",
    "class Chat:\n",
    "    def __init__(self):\n",
    "        self.dialogs = {}    \n",
    "        self.id = random.randint(1000,9999)\n",
    "        print(f'Criado novo objeto com id: {self.id}')\n",
    "\n",
    "    def send_message(self, message, interlocutor):\n",
    "        dialog = self.resolve_dialog(interlocutor)\n",
    "\n",
    "        dialog += f'\\n <{self.id}> {message}'\n",
    "\n",
    "        dialog_keypar = (self.id,interlocutor.id)\n",
    "        self.dialogs[dialog_keypar]         = dialog\n",
    "        interlocutor.dialogs[dialog_keypar] = dialog  \n",
    "\n",
    "    def read_dialog(self):\n",
    "        print('----')\n",
    "        for dialog_keyset,dialog in self.dialogs.items():\n",
    "            print(f'{dialog_keyset}: {dialog} \\n')\n",
    "\n",
    "    def resolve_dialog(self,interlocutor):\n",
    "        dialog_keypar = (self.id,interlocutor.id)\n",
    "        try: \n",
    "            if self.dialogs[dialog_keypar] == interlocutor.dialogs[dialog_keypar]:\n",
    "                return self.dialogs[(self.id, interlocutor.id)]\n",
    "            else: \n",
    "                print('work in progress')\n",
    "\n",
    "        except KeyError:\n",
    "            dialog = \"\"  \n",
    "            return dialog      \n",
    "\n",
    "        "
   ]
  },
  {
   "cell_type": "code",
   "execution_count": 89,
   "metadata": {},
   "outputs": [
    {
     "name": "stdout",
     "output_type": "stream",
     "text": [
      "Criado novo objeto com id: 2225\n",
      "Criado novo objeto com id: 3948\n",
      "Criado novo objeto com id: 1927\n",
      "Criado novo objeto com id: 5016\n"
     ]
    }
   ],
   "source": [
    "chatters = [Chat() for c in range(4)]\n",
    "a,b,c,d = chatters"
   ]
  },
  {
   "cell_type": "code",
   "execution_count": 91,
   "metadata": {},
   "outputs": [
    {
     "ename": "TypeError",
     "evalue": "sorted expected 1 argument, got 2",
     "output_type": "error",
     "traceback": [
      "\u001b[0;31m---------------------------------------------------------------------------\u001b[0m",
      "\u001b[0;31mTypeError\u001b[0m                                 Traceback (most recent call last)",
      "\u001b[0;32m/tmp/ipykernel_461503/3037644813.py\u001b[0m in \u001b[0;36m<module>\u001b[0;34m\u001b[0m\n\u001b[0;32m----> 1\u001b[0;31m \u001b[0ma\u001b[0m\u001b[0;34m.\u001b[0m\u001b[0msend_message\u001b[0m\u001b[0;34m(\u001b[0m\u001b[0;34m\"a1\"\u001b[0m\u001b[0;34m,\u001b[0m\u001b[0mb\u001b[0m\u001b[0;34m)\u001b[0m\u001b[0;34m\u001b[0m\u001b[0;34m\u001b[0m\u001b[0m\n\u001b[0m\u001b[1;32m      2\u001b[0m \u001b[0ma\u001b[0m\u001b[0;34m.\u001b[0m\u001b[0msend_message\u001b[0m\u001b[0;34m(\u001b[0m\u001b[0;34m\"a2\"\u001b[0m\u001b[0;34m,\u001b[0m\u001b[0mc\u001b[0m\u001b[0;34m)\u001b[0m\u001b[0;34m\u001b[0m\u001b[0;34m\u001b[0m\u001b[0m\n\u001b[1;32m      3\u001b[0m \u001b[0ma\u001b[0m\u001b[0;34m.\u001b[0m\u001b[0msend_message\u001b[0m\u001b[0;34m(\u001b[0m\u001b[0;34m\"a3\"\u001b[0m\u001b[0;34m,\u001b[0m\u001b[0mc\u001b[0m\u001b[0;34m)\u001b[0m\u001b[0;34m\u001b[0m\u001b[0;34m\u001b[0m\u001b[0m\n\u001b[1;32m      4\u001b[0m \u001b[0;34m\u001b[0m\u001b[0m\n\u001b[1;32m      5\u001b[0m \u001b[0mb\u001b[0m\u001b[0;34m.\u001b[0m\u001b[0msend_message\u001b[0m\u001b[0;34m(\u001b[0m\u001b[0;34m'b1'\u001b[0m\u001b[0;34m,\u001b[0m\u001b[0ma\u001b[0m\u001b[0;34m)\u001b[0m\u001b[0;34m\u001b[0m\u001b[0;34m\u001b[0m\u001b[0m\n",
      "\u001b[0;32m/tmp/ipykernel_461503/1437301885.py\u001b[0m in \u001b[0;36msend_message\u001b[0;34m(self, message, interlocutor)\u001b[0m\n\u001b[1;32m     12\u001b[0m         \u001b[0mdialog\u001b[0m \u001b[0;34m+=\u001b[0m \u001b[0;34mf'\\n <{self.id}> {message}'\u001b[0m\u001b[0;34m\u001b[0m\u001b[0;34m\u001b[0m\u001b[0m\n\u001b[1;32m     13\u001b[0m \u001b[0;34m\u001b[0m\u001b[0m\n\u001b[0;32m---> 14\u001b[0;31m         \u001b[0mdialog_keypar\u001b[0m \u001b[0;34m=\u001b[0m \u001b[0msorted\u001b[0m\u001b[0;34m(\u001b[0m\u001b[0mself\u001b[0m\u001b[0;34m.\u001b[0m\u001b[0mid\u001b[0m\u001b[0;34m,\u001b[0m\u001b[0minterlocutor\u001b[0m\u001b[0;34m.\u001b[0m\u001b[0mid\u001b[0m\u001b[0;34m)\u001b[0m\u001b[0;34m\u001b[0m\u001b[0;34m\u001b[0m\u001b[0m\n\u001b[0m\u001b[1;32m     15\u001b[0m         \u001b[0mself\u001b[0m\u001b[0;34m.\u001b[0m\u001b[0mdialogs\u001b[0m\u001b[0;34m[\u001b[0m\u001b[0mdialog_keypar\u001b[0m\u001b[0;34m]\u001b[0m         \u001b[0;34m=\u001b[0m \u001b[0mdialog\u001b[0m\u001b[0;34m\u001b[0m\u001b[0;34m\u001b[0m\u001b[0m\n\u001b[1;32m     16\u001b[0m         \u001b[0minterlocutor\u001b[0m\u001b[0;34m.\u001b[0m\u001b[0mdialogs\u001b[0m\u001b[0;34m[\u001b[0m\u001b[0mdialog_keypar\u001b[0m\u001b[0;34m]\u001b[0m \u001b[0;34m=\u001b[0m \u001b[0mdialog\u001b[0m\u001b[0;34m\u001b[0m\u001b[0;34m\u001b[0m\u001b[0m\n",
      "\u001b[0;31mTypeError\u001b[0m: sorted expected 1 argument, got 2"
     ]
    }
   ],
   "source": [
    "a.send_message(\"a1\",b)\n",
    "a.send_message(\"a2\",c)\n",
    "a.send_message(\"a3\",c)\n",
    "\n",
    "b.send_message('b1',a)\n",
    "b.send_message('b2',c)\n",
    "\n",
    "a.read_dialog()\n",
    "b.read_dialog()\n",
    "c.read_dialog()"
   ]
  },
  {
   "cell_type": "code",
   "execution_count": 75,
   "metadata": {},
   "outputs": [
    {
     "name": "stdout",
     "output_type": "stream",
     "text": [
      "----\n",
      "(6088, 1974): \n",
      " <6088> a1 \n",
      "\n",
      "(6088, 5309): \n",
      " <6088> a2\n",
      " <6088> a3 \n",
      "\n",
      "(1974, 6088): \n",
      " <1974> b1 \n",
      "\n",
      "(9405, 6088): \n",
      " <9405> Hi a\n",
      " <9405> ça va. ca va? \n",
      "\n",
      "(6088, 9405): \n",
      " <6088> hello d! ça vá?\n",
      " <6088> ça va \n",
      "\n",
      "----\n",
      "(9405, 6088): \n",
      " <9405> Hi a\n",
      " <9405> ça va. ca va? \n",
      "\n",
      "(6088, 9405): \n",
      " <6088> hello d! ça vá?\n",
      " <6088> ça va \n",
      "\n"
     ]
    }
   ],
   "source": [
    "d.send_message('Hi a',a)\n",
    "a.send_message('hello d! ça vá?',d)\n",
    "d.send_message('ça va. ca va?',a)\n",
    "a.send_message('ça va',d)\n",
    "\n",
    "a.read_dialog()\n",
    "d.read_dialog()"
   ]
  },
  {
   "cell_type": "code",
   "execution_count": 83,
   "metadata": {},
   "outputs": [
    {
     "ename": "TypeError",
     "evalue": "unhashable type: 'list'",
     "output_type": "error",
     "traceback": [
      "\u001b[0;31m---------------------------------------------------------------------------\u001b[0m",
      "\u001b[0;31mTypeError\u001b[0m                                 Traceback (most recent call last)",
      "\u001b[0;32m/tmp/ipykernel_461503/1256376859.py\u001b[0m in \u001b[0;36m<module>\u001b[0;34m\u001b[0m\n\u001b[0;32m----> 1\u001b[0;31m \u001b[0;34m{\u001b[0m\u001b[0;34m[\u001b[0m\u001b[0;34m'danel'\u001b[0m\u001b[0;34m,\u001b[0m\u001b[0;34m'Brito'\u001b[0m\u001b[0;34m]\u001b[0m\u001b[0;34m:\u001b[0m\u001b[0;36m3\u001b[0m\u001b[0;34m}\u001b[0m\u001b[0;34m\u001b[0m\u001b[0;34m\u001b[0m\u001b[0m\n\u001b[0m",
      "\u001b[0;31mTypeError\u001b[0m: unhashable type: 'list'"
     ]
    }
   ],
   "source": [
    "{['danel','Brito']:3}"
   ]
  }
 ],
 "metadata": {
  "kernelspec": {
   "display_name": "Python 3.10.5 64-bit",
   "language": "python",
   "name": "python3"
  },
  "language_info": {
   "codemirror_mode": {
    "name": "ipython",
    "version": 3
   },
   "file_extension": ".py",
   "mimetype": "text/x-python",
   "name": "python",
   "nbconvert_exporter": "python",
   "pygments_lexer": "ipython3",
   "version": "3.10.5"
  },
  "orig_nbformat": 4,
  "vscode": {
   "interpreter": {
    "hash": "e7370f93d1d0cde622a1f8e1c04877d8463912d04d973331ad4851f04de6915a"
   }
  }
 },
 "nbformat": 4,
 "nbformat_minor": 2
}
