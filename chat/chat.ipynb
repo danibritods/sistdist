{
 "cells": [
  {
   "cell_type": "code",
   "execution_count": 33,
   "metadata": {},
   "outputs": [],
   "source": [
    "import random \n",
    "\n",
    "class Chat:\n",
    "    id = \"\"\n",
    "    dialogs = {}\n",
    "\n",
    "    def __init__(self):\n",
    "        self.id = random.randint(1000,9999)\n",
    "        print(f'Criado novo objeto com id: {self.id}')\n",
    "\n",
    "    def send_message(self, message, interlocutor):\n",
    "        dialog = self.resolve_dialog(interlocutor)\n",
    "\n",
    "        dialog += f'\\n <{self.id}> {message}'\n",
    "\n",
    "        dialog_keypar = (self.id,interlocutor.id)\n",
    "        self.dialogs[dialog_keypar]         = dialog\n",
    "        interlocutor.dialogs[dialog_keypar] = dialog  \n",
    "\n",
    "    def read_dialog(self):\n",
    "        print(self.dialogs)\n",
    "\n",
    "    def resolve_dialog(self,interlocutor):\n",
    "        dialog_keypar = (self.id,interlocutor.id)\n",
    "        try: \n",
    "            if self.dialogs[dialog_keypar] == interlocutor.dialogs[dialog_keypar]:\n",
    "                return self.dialogs[(self.id, interlocutor.id)]\n",
    "            else: \n",
    "                print('work in progress')\n",
    "\n",
    "        except KeyError:\n",
    "            dialog = \"\"\n",
    "            self.dialogs[dialog_keypar]         = dialog\n",
    "            interlocutor.dialogs[dialog_keypar] = dialog     \n",
    "            return dialog      \n",
    "\n",
    "        "
   ]
  },
  {
   "cell_type": "code",
   "execution_count": 34,
   "metadata": {},
   "outputs": [
    {
     "name": "stdout",
     "output_type": "stream",
     "text": [
      "Criado novo objeto com id: 5832\n",
      "Criado novo objeto com id: 3373\n",
      "Criado novo objeto com id: 3594\n",
      "Criado novo objeto com id: 9525\n"
     ]
    }
   ],
   "source": [
    "chatters = [Chat() for c in range(4)]\n",
    "a,b,c,d = chatters"
   ]
  },
  {
   "cell_type": "code",
   "execution_count": 35,
   "metadata": {},
   "outputs": [
    {
     "name": "stdout",
     "output_type": "stream",
     "text": [
      "{(5832, 3373): '\\n <5832> a1', (5832, 3594): '\\n <5832> a2\\n <5832> a3'}\n",
      "{(5832, 3373): '\\n <5832> a1', (5832, 3594): '\\n <5832> a2\\n <5832> a3'}\n",
      "{(5832, 3373): '\\n <5832> a1', (5832, 3594): '\\n <5832> a2\\n <5832> a3'}\n"
     ]
    }
   ],
   "source": [
    "a.send_message(\"a1\",b)\n",
    "a.send_message(\"a2\",c)\n",
    "a.send_message(\"a3\",c)\n",
    "\n",
    "a.read_dialog()\n",
    "b.read_dialog()\n",
    "c.read_dialog()"
   ]
  },
  {
   "cell_type": "code",
   "execution_count": 42,
   "metadata": {},
   "outputs": [
    {
     "data": {
      "text/plain": [
       "{(5832, 3373): '\\n <5832> a1',\n",
       " (5832, 3594): '\\n <5832> a2\\n <5832> a3',\n",
       " 'teste': 42}"
      ]
     },
     "execution_count": 42,
     "metadata": {},
     "output_type": "execute_result"
    }
   ],
   "source": [
    "b.dialogs['teste'] = 42\n",
    "a.dialogs\n",
    "# damn! I did forget that python mutable datatypes are *really* mutable\n",
    "# class lists, dicts and tuples are shared between all its instances... Does it maps to remote object call? "
   ]
  }
 ],
 "metadata": {
  "kernelspec": {
   "display_name": "Python 3.10.5 64-bit",
   "language": "python",
   "name": "python3"
  },
  "language_info": {
   "codemirror_mode": {
    "name": "ipython",
    "version": 3
   },
   "file_extension": ".py",
   "mimetype": "text/x-python",
   "name": "python",
   "nbconvert_exporter": "python",
   "pygments_lexer": "ipython3",
   "version": "3.10.5"
  },
  "orig_nbformat": 4,
  "vscode": {
   "interpreter": {
    "hash": "e7370f93d1d0cde622a1f8e1c04877d8463912d04d973331ad4851f04de6915a"
   }
  }
 },
 "nbformat": 4,
 "nbformat_minor": 2
}
