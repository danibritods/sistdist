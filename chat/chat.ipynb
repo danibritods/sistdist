{
 "cells": [
  {
   "cell_type": "code",
   "execution_count": 1,
   "metadata": {},
   "outputs": [],
   "source": [
    "import random\n",
    "from tkinter import dialog\n",
    "\n",
    "class Chat:\n",
    "    def __init__(self):\n",
    "        '''Creates attributes and prints id'''\n",
    "        self.dialogs = {} #is this an attribute?\n",
    "        self.id = random.randint(1000, 9999)\n",
    "        print(f'Creating new object with id: {self.id}')\n",
    "\n",
    "    def send_message(self, message, listener):\n",
    "        dialog = self._resolve_dialog(listener)\n",
    "        dialog += f'\\n <{self.id}> {message}'\n",
    "        dialog_keypar = self._create_dialog_keypar(listener)\n",
    "        self.dialogs[dialog_keypar] = dialog\n",
    "        listener.dialogs[dialog_keypar] = dialog\n",
    "\n",
    "    def read_dialog(self):\n",
    "        print('----')\n",
    "        for dialog_keyset, dialog in self.dialogs.items():\n",
    "            print(f'{dialog_keyset}: {dialog} \\n')\n",
    "\n",
    "    def _resolve_dialog(self, listener):\n",
    "        dialog_keypar = self._create_dialog_keypar(listener)\n",
    "        try:\n",
    "            if self.dialogs[dialog_keypar] == listener.dialogs[dialog_keypar]:\n",
    "                return self.dialogs[dialog_keypar]\n",
    "            else:\n",
    "                print('work in progress')\n",
    "\n",
    "        except KeyError:\n",
    "            dialog = ''\n",
    "            return dialog\n",
    "\n",
    "    def _create_dialog_keypar(self, listener):\n",
    "        '''Returns a strings containing the sender and receiver ids'''\n",
    "        keys = [self.id, listener.id]\n",
    "        dialog_keypar = '#'.join(map(str, sorted(keys)))\n",
    "            #does this needs to be sorted? Shouldn't it be 'speaker_id#listener_id'?\n",
    "                #it does in the matching equality check in _resolve_dialog, but it feels weird\n",
    "        return dialog_keypar\n"
   ]
  },
  {
   "cell_type": "code",
   "execution_count": 2,
   "metadata": {},
   "outputs": [
    {
     "name": "stdout",
     "output_type": "stream",
     "text": [
      "Creating new object with id: 8443\n",
      "Creating new object with id: 3591\n",
      "Creating new object with id: 1970\n",
      "Creating new object with id: 5843\n"
     ]
    }
   ],
   "source": [
    "chatters = [Chat() for c in range(4)]\n",
    "a,b,c,d = chatters"
   ]
  },
  {
   "cell_type": "code",
   "execution_count": null,
   "metadata": {},
   "outputs": [],
   "source": [
    "\n",
    "d.send_message('D says hello to A',a)\n",
    "a.send_message('A Says Jello to D',d)\n",
    "d.send_message('D Says Mello to A',a)\n",
    "a.send_message('A says Gello to D',d)\n",
    "\n",
    "a.read_dialog()\n",
    "d.read_dialog()"
   ]
  },
  {
   "cell_type": "code",
   "execution_count": null,
   "metadata": {},
   "outputs": [],
   "source": [
    "a.send_message('a1',b)\n",
    "a.send_message('a2',c)\n",
    "a.send_message('a3',c)\n",
    "\n",
    "b.send_message('b1',a)\n",
    "b.send_message('b2',c)\n",
    "\n",
    "a.read_dialog()\n",
    "b.read_dialog()\n",
    "c.read_dialog()"
   ]
  },
  {
   "cell_type": "markdown",
   "metadata": {},
   "source": [
    "# Comments\n",
    "\n",
    "Each object should have an server and a client running simultaneously"
   ]
  },
  {
   "cell_type": "code",
   "execution_count": 2,
   "metadata": {},
   "outputs": [
    {
     "name": "stdout",
     "output_type": "stream",
     "text": [
      "date: 30-08-22 Time: 21:17:31\n",
      "220830-21:17:31\n"
     ]
    }
   ],
   "source": [
    "'''Timestamp = TS'''\n",
    "import datetime\n",
    "now=datetime.datetime.now()\n",
    "TS1 = 'date: '+now.strftime('%d-%m-%y')+' Time: '+now.strftime('%H:%M:%S')\n",
    "print(TS1)\n",
    "TS2 = now.strftime('%y%m%d-')+now.strftime('%H:%M:%S')\n",
    "print(TS2)"
   ]
  }
 ],
 "metadata": {
  "kernelspec": {
   "display_name": "Python 3.10.2 64-bit (system)",
   "language": "python",
   "name": "python3"
  },
  "language_info": {
   "codemirror_mode": {
    "name": "ipython",
    "version": 3
   },
   "file_extension": ".py",
   "mimetype": "text/x-python",
   "name": "python",
   "nbconvert_exporter": "python",
   "pygments_lexer": "ipython3",
   "version": "3.10.2"
  },
  "orig_nbformat": 4,
  "vscode": {
   "interpreter": {
    "hash": "896021ae8dbdc5194ce7c05db62856ed3e6d57337b04d6eb45afdec41bc9634a"
   }
  }
 },
 "nbformat": 4,
 "nbformat_minor": 2
}
