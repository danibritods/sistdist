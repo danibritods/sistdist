{
 "cells": [
  {
   "cell_type": "code",
   "execution_count": 2,
   "metadata": {},
   "outputs": [],
   "source": [
    "import random \n",
    "\n",
    "class Chat:\n",
    "    id = \"\"\n",
    "    dialog = \"\"\n",
    "\n",
    "    def __init__(self):\n",
    "        self.id = random.randint(1000,9999)\n",
    "        print(f'Criado novo objeto com id: {self.id}')\n",
    "\n",
    "    def send_message(self, message): #, dialog = None):\n",
    "        self.dialog += f'\\n <{self.id}> {message}'\n",
    "        print(self.dialog)\n",
    "\n",
    "    def read_dialog(self):\n",
    "        return self.dialog"
   ]
  },
  {
   "cell_type": "code",
   "execution_count": 4,
   "metadata": {},
   "outputs": [
    {
     "name": "stdout",
     "output_type": "stream",
     "text": [
      "Criado novo objeto com id: 7558\n",
      "Criado novo objeto com id: 3686\n",
      "Criado novo objeto com id: 6278\n",
      "Criado novo objeto com id: 5646\n"
     ]
    }
   ],
   "source": [
    "chatters = [Chat() for c in range(4)]\n",
    "a,b,c,d = chatters"
   ]
  },
  {
   "cell_type": "code",
   "execution_count": 58,
   "metadata": {},
   "outputs": [
    {
     "name": "stdout",
     "output_type": "stream",
     "text": [
      "\n",
      " <1733> Hello World!\n",
      "\n",
      " <1733> Hello World!\n",
      " <1733> sdsds\n"
     ]
    }
   ],
   "source": [
    "msg = 'Hello World!'\n",
    "a.send_message(msg)\n",
    "b.send_message(\"sdsds\")"
   ]
  }
 ],
 "metadata": {
  "kernelspec": {
   "display_name": "Python 3.10.5 64-bit",
   "language": "python",
   "name": "python3"
  },
  "language_info": {
   "codemirror_mode": {
    "name": "ipython",
    "version": 3
   },
   "file_extension": ".py",
   "mimetype": "text/x-python",
   "name": "python",
   "nbconvert_exporter": "python",
   "pygments_lexer": "ipython3",
   "version": "3.10.5"
  },
  "orig_nbformat": 4,
  "vscode": {
   "interpreter": {
    "hash": "e7370f93d1d0cde622a1f8e1c04877d8463912d04d973331ad4851f04de6915a"
   }
  }
 },
 "nbformat": 4,
 "nbformat_minor": 2
}
