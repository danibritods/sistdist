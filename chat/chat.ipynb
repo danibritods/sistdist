{
 "cells": [
  {
   "cell_type": "code",
   "execution_count": 48,
   "metadata": {},
   "outputs": [],
   "source": [
    "import random \n",
    "\n",
    "class Chat:\n",
    "    def __init__(self):\n",
    "        self.dialogs = {}    \n",
    "        self.id = random.randint(1000,9999)\n",
    "        print(f'Criado novo objeto com id: {self.id}')\n",
    "\n",
    "    def send_message(self, message, interlocutor):\n",
    "        dialog = self.resolve_dialog(interlocutor)\n",
    "\n",
    "        dialog += f'\\n <{self.id}> {message}'\n",
    "\n",
    "        dialog_keypar = (self.id,interlocutor.id)\n",
    "        self.dialogs[dialog_keypar]         = dialog\n",
    "        interlocutor.dialogs[dialog_keypar] = dialog  \n",
    "\n",
    "    def read_dialog(self):\n",
    "        print(self.dialogs)\n",
    "\n",
    "    def resolve_dialog(self,interlocutor):\n",
    "        dialog_keypar = (self.id,interlocutor.id)\n",
    "        try: \n",
    "            if self.dialogs[dialog_keypar] == interlocutor.dialogs[dialog_keypar]:\n",
    "                return self.dialogs[(self.id, interlocutor.id)]\n",
    "            else: \n",
    "                print('work in progress')\n",
    "\n",
    "        except KeyError:\n",
    "            dialog = \"\"\n",
    "            self.dialogs[dialog_keypar]         = dialog\n",
    "            interlocutor.dialogs[dialog_keypar] = dialog     \n",
    "            return dialog      \n",
    "\n",
    "        "
   ]
  },
  {
   "cell_type": "code",
   "execution_count": 49,
   "metadata": {},
   "outputs": [
    {
     "name": "stdout",
     "output_type": "stream",
     "text": [
      "Criado novo objeto com id: 1845\n",
      "Criado novo objeto com id: 2657\n",
      "Criado novo objeto com id: 7270\n",
      "Criado novo objeto com id: 5480\n"
     ]
    }
   ],
   "source": [
    "chatters = [Chat() for c in range(4)]\n",
    "a,b,c,d = chatters"
   ]
  },
  {
   "cell_type": "code",
   "execution_count": 50,
   "metadata": {},
   "outputs": [
    {
     "name": "stdout",
     "output_type": "stream",
     "text": [
      "{(1845, 2657): '\\n <1845> a1', (1845, 7270): '\\n <1845> a2\\n <1845> a3'}\n",
      "{(1845, 2657): '\\n <1845> a1'}\n",
      "{(1845, 7270): '\\n <1845> a2\\n <1845> a3'}\n"
     ]
    }
   ],
   "source": [
    "a.send_message(\"a1\",b)\n",
    "a.send_message(\"a2\",c)\n",
    "a.send_message(\"a3\",c)\n",
    "\n",
    "a.read_dialog()\n",
    "b.read_dialog()\n",
    "c.read_dialog()"
   ]
  }
 ],
 "metadata": {
  "kernelspec": {
   "display_name": "Python 3.10.5 64-bit",
   "language": "python",
   "name": "python3"
  },
  "language_info": {
   "codemirror_mode": {
    "name": "ipython",
    "version": 3
   },
   "file_extension": ".py",
   "mimetype": "text/x-python",
   "name": "python",
   "nbconvert_exporter": "python",
   "pygments_lexer": "ipython3",
   "version": "3.10.5"
  },
  "orig_nbformat": 4,
  "vscode": {
   "interpreter": {
    "hash": "e7370f93d1d0cde622a1f8e1c04877d8463912d04d973331ad4851f04de6915a"
   }
  }
 },
 "nbformat": 4,
 "nbformat_minor": 2
}
