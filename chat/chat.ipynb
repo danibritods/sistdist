{
 "cells": [
  {
   "cell_type": "code",
   "execution_count": 141,
   "metadata": {},
   "outputs": [],
   "source": [
    "import random\n",
    "from tkinter import dialog\n",
    "\n",
    "\n",
    "class Chat:\n",
    "    def __init__(self):\n",
    "        self.dialogs = {}\n",
    "        self.id = random.randint(1000, 9999)\n",
    "        print(f'Criado novo objeto com id: {self.id}')\n",
    "\n",
    "    def send_message(self, message, interlocutor):\n",
    "        dialog = self._resolve_dialog(interlocutor)\n",
    "\n",
    "        dialog += f'\\n <{self.id}> {message}'\n",
    "\n",
    "        dialog_keypar = self._create_dialog_keypar(interlocutor)\n",
    "        self.dialogs[dialog_keypar] = dialog\n",
    "        interlocutor.dialogs[dialog_keypar] = dialog\n",
    "\n",
    "    def read_dialog(self):\n",
    "        print('----')\n",
    "        for dialog_keyset, dialog in self.dialogs.items():\n",
    "            print(f'{dialog_keyset}: {dialog} \\n')\n",
    "\n",
    "    def _resolve_dialog(self, interlocutor):\n",
    "        dialog_keypar = self._create_dialog_keypar(interlocutor)\n",
    "        try:\n",
    "            if self.dialogs[dialog_keypar] == interlocutor.dialogs[dialog_keypar]:\n",
    "                return self.dialogs[dialog_keypar]\n",
    "            else:\n",
    "                print('work in progress')\n",
    "\n",
    "        except KeyError:\n",
    "            dialog = \"\"\n",
    "            return dialog\n",
    "\n",
    "    def _create_dialog_keypar(self, interlocutor):\n",
    "        keys = [self.id, interlocutor.id]\n",
    "        dialog_keypar = '#'.join(map(str, sorted(keys)))\n",
    "        return dialog_keypar\n"
   ]
  },
  {
   "cell_type": "code",
   "execution_count": 146,
   "metadata": {},
   "outputs": [
    {
     "name": "stdout",
     "output_type": "stream",
     "text": [
      "Criado novo objeto com id: 1424\n",
      "Criado novo objeto com id: 6744\n",
      "Criado novo objeto com id: 6986\n",
      "Criado novo objeto com id: 4401\n"
     ]
    }
   ],
   "source": [
    "chatters = [Chat() for c in range(4)]\n",
    "a,b,c,d = chatters"
   ]
  },
  {
   "cell_type": "code",
   "execution_count": 147,
   "metadata": {},
   "outputs": [
    {
     "name": "stdout",
     "output_type": "stream",
     "text": [
      "----\n",
      "1424#4401: \n",
      " <4401> Hi a\n",
      " <1424> hello d! ça vá?\n",
      " <4401> ça va. ca va?\n",
      " <1424> ça va \n",
      "\n",
      "----\n",
      "1424#4401: \n",
      " <4401> Hi a\n",
      " <1424> hello d! ça vá?\n",
      " <4401> ça va. ca va?\n",
      " <1424> ça va \n",
      "\n"
     ]
    }
   ],
   "source": [
    "d.send_message('Hi a',a)\n",
    "a.send_message('hello d! ça vá?',d)\n",
    "d.send_message('ça va. ca va?',a)\n",
    "a.send_message('ça va',d)\n",
    "\n",
    "a.read_dialog()\n",
    "d.read_dialog()"
   ]
  },
  {
   "cell_type": "code",
   "execution_count": 148,
   "metadata": {},
   "outputs": [
    {
     "name": "stdout",
     "output_type": "stream",
     "text": [
      "----\n",
      "1424#4401: \n",
      " <4401> Hi a\n",
      " <1424> hello d! ça vá?\n",
      " <4401> ça va. ca va?\n",
      " <1424> ça va \n",
      "\n",
      "1424#6744: \n",
      " <1424> a1\n",
      " <6744> b1 \n",
      "\n",
      "1424#6986: \n",
      " <1424> a2\n",
      " <1424> a3 \n",
      "\n",
      "----\n",
      "1424#6744: \n",
      " <1424> a1\n",
      " <6744> b1 \n",
      "\n",
      "6744#6986: \n",
      " <6744> b2 \n",
      "\n",
      "----\n",
      "1424#6986: \n",
      " <1424> a2\n",
      " <1424> a3 \n",
      "\n",
      "6744#6986: \n",
      " <6744> b2 \n",
      "\n"
     ]
    }
   ],
   "source": [
    "a.send_message(\"a1\",b)\n",
    "a.send_message(\"a2\",c)\n",
    "a.send_message(\"a3\",c)\n",
    "\n",
    "b.send_message('b1',a)\n",
    "b.send_message('b2',c)\n",
    "\n",
    "a.read_dialog()\n",
    "b.read_dialog()\n",
    "c.read_dialog()"
   ]
  }
 ],
 "metadata": {
  "kernelspec": {
   "display_name": "Python 3.10.2 64-bit (system)",
   "language": "python",
   "name": "python3"
  },
  "language_info": {
   "codemirror_mode": {
    "name": "ipython",
    "version": 3
   },
   "file_extension": ".py",
   "mimetype": "text/x-python",
   "name": "python",
   "nbconvert_exporter": "python",
   "pygments_lexer": "ipython3",
   "version": "3.10.2"
  },
  "orig_nbformat": 4,
  "vscode": {
   "interpreter": {
    "hash": "896021ae8dbdc5194ce7c05db62856ed3e6d57337b04d6eb45afdec41bc9634a"
   }
  }
 },
 "nbformat": 4,
 "nbformat_minor": 2
}
